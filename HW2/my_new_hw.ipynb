{
 "cells": [
  {
   "cell_type": "code",
   "execution_count": 191,
   "id": "91c048f8",
   "metadata": {},
   "outputs": [],
   "source": [
    "import pickle\n",
    "import re\n",
    "\n",
    "with open('chgk/players.pkl', 'rb') as f:\n",
    "    players = pickle.load(f)\n",
    "with open('chgk/results.pkl', 'rb') as f:\n",
    "    results = pickle.load(f)\n",
    "with open('chgk/tournaments.pkl', 'rb') as f:\n",
    "    tournaments = pickle.load(f)"
   ]
  },
  {
   "cell_type": "markdown",
   "id": "521b8f81",
   "metadata": {},
   "source": [
    "### 1. Сформируем трейн и тест выборки"
   ]
  },
  {
   "cell_type": "markdown",
   "id": "4cc0680f",
   "metadata": {},
   "source": [
    "Прочитайте и проанализируйте данные, выберите турниры, в которых есть данные о составах команд и повопросных результатах (поле mask в results.pkl)"
   ]
  },
  {
   "cell_type": "markdown",
   "id": "abb41302",
   "metadata": {},
   "source": [
    "- взять в тренировочный набор турниры с dateStart из 2019 года; \n",
    "- в тестовый — турниры с dateStart из 2020 года."
   ]
  },
  {
   "cell_type": "code",
   "execution_count": 192,
   "id": "b7ded55a",
   "metadata": {
    "scrolled": true
   },
   "outputs": [],
   "source": [
    "tour_train = {}\n",
    "tour_test = {}\n",
    "team_test = {}\n",
    "team_train = {}\n",
    "result_preproc = {}\n",
    "for _, tour in tournaments.items():\n",
    "    if tour['dateStart'][:4] in ('2020', '2019'):\n",
    "        tour_id = int(tour['id'])\n",
    "        filtred_teams = []\n",
    "        qs_count = tour['questionQty']\n",
    "        qs_count = sum([int(q) for q in qs_count.values()])\n",
    "        filtred_tour_teams = [team for team in results[tour_id] if 'mask' in team.keys() \\\n",
    "                         and team['mask'] and len(team['teamMembers']) > 0 \\\n",
    "                         and len(team['mask']) == qs_count \\\n",
    "                         and len(re.findall(r'[0-9]', team['mask'])) == qs_count]\n",
    "        if len(filtred_tour_teams) > 0:\n",
    "            if tour['dateStart'][:4] == '2019':\n",
    "                tour_train[tour_id] = (tour['name'], filtred_tour_teams)\n",
    "#                 team_train[tour_id] = filtred_teams\n",
    "            else:\n",
    "                tour_test[tour_id] = (tour['name'], filtred_tour_teams)\n",
    "#                 team_test[tour_id] = filtred_teams\n",
    "\n",
    "            result_preproc[tour_id] = results[tour_id]"
   ]
  },
  {
   "cell_type": "markdown",
   "id": "cc118577",
   "metadata": {},
   "source": [
    "Размер получившегося датасета туров. Дальше к каждой выборке туров мы подтянем данные о составе команды, игроках, вопросах и успешных ответах"
   ]
  },
  {
   "cell_type": "code",
   "execution_count": 193,
   "id": "5cb26c5f",
   "metadata": {},
   "outputs": [
    {
     "data": {
      "text/plain": [
       "(614, 159)"
      ]
     },
     "execution_count": 193,
     "metadata": {},
     "output_type": "execute_result"
    }
   ],
   "source": [
    "len(tour_train), len(tour_test)"
   ]
  },
  {
   "cell_type": "code",
   "execution_count": 306,
   "id": "4a84154a",
   "metadata": {},
   "outputs": [],
   "source": [
    "train_players = {}\n",
    "for tour_id, (tour_name, filtred_tour_teams) in tour_train.items():\n",
    "    for team in filtred_tour_teams:\n",
    "        position = team['position']\n",
    "        player_ids = [mem['player']['id'] for mem in team['teamMembers']]\n",
    "        questions = [int(q) for q in team['mask']]\n",
    "        answers = [int(q) for q in team['mask']]\n",
    "        for pid in player_ids:\n",
    "            if pid not in train_players:\n",
    "                train_players[pid] = {}\n",
    "            train_players[pid][tour_id] = (team['team']['id'], team['position'], answers)\n",
    "            \n",
    "plrs, trs, teams_list, ans, pos, qs = [], [], [], [], [], []\n",
    "for player, tour_id in train_players.items():\n",
    "    for tour,  (teams_id, position, answers) in tour_id.items():\n",
    "        for i, answer in enumerate(answers):\n",
    "            plrs.append(player)\n",
    "            trs.append(tour)\n",
    "            ans.append(answer)\n",
    "            teams_list.append(teams_id)\n",
    "            pos.append(position)\n",
    "            qs.append(str(tour) + '_' + str(i))\n",
    "dict_test = {'tour_id':trs, 'team_id':teams_list, 'position':pos, 'player_id':plrs, 'question_id':qs,  'answer':ans}"
   ]
  },
  {
   "cell_type": "code",
   "execution_count": 307,
   "id": "ce98e686",
   "metadata": {},
   "outputs": [],
   "source": [
    "# Нас интересуют только игроки, которые есть в обучающей выборке\n",
    "test_players = {}\n",
    "for tour_id, (tour_name, filtred_tour_teams) in tour_test.items():\n",
    "    for team in filtred_tour_teams:\n",
    "        player_ids = [mem['player']['id'] for mem in team['teamMembers']]\n",
    "        answers = [int(q) for q in team['mask']]\n",
    "        for pid in player_ids:\n",
    "            if pid not in train_players:\n",
    "                continue\n",
    "            if pid not in test_players:\n",
    "                test_players[pid] = {}\n",
    "            test_players[pid][tour_id] = (team['team']['id'], team['position'], answers)\n",
    "\n",
    "plrs, trs, teams_list, ans, pos, qs = [], [], [], [], [], []\n",
    "for player, tour_id in test_players.items():\n",
    "    for tour, (teams_id, position, answers) in tour_id.items():\n",
    "        for i, answer in enumerate(answers):\n",
    "            plrs.append(player)\n",
    "            trs.append(tour)\n",
    "            ans.append(answer)\n",
    "            teams_list.append(teams_id)\n",
    "            pos.append(position)\n",
    "            qs.append(str(tour) + '_' + str(i))\n",
    "dict_test = {'tour_id':trs, 'team_id':teams_list, 'position':pos, 'player_id':plrs, 'question_id':qs,  'answer':ans}"
   ]
  },
  {
   "cell_type": "code",
   "execution_count": 308,
   "id": "651209d5",
   "metadata": {},
   "outputs": [],
   "source": [
    "# Train Dataset\n",
    "df = pd.DataFrame(dict_train)\n",
    "\n",
    "# Test Dataset\n",
    "df_test = pd.DataFrame(dict_test)"
   ]
  },
  {
   "cell_type": "code",
   "execution_count": 310,
   "id": "c7bcabde",
   "metadata": {
    "scrolled": false
   },
   "outputs": [
    {
     "data": {
      "text/html": [
       "<div>\n",
       "<style scoped>\n",
       "    .dataframe tbody tr th:only-of-type {\n",
       "        vertical-align: middle;\n",
       "    }\n",
       "\n",
       "    .dataframe tbody tr th {\n",
       "        vertical-align: top;\n",
       "    }\n",
       "\n",
       "    .dataframe thead th {\n",
       "        text-align: right;\n",
       "    }\n",
       "</style>\n",
       "<table border=\"1\" class=\"dataframe\">\n",
       "  <thead>\n",
       "    <tr style=\"text-align: right;\">\n",
       "      <th></th>\n",
       "      <th>tour_id</th>\n",
       "      <th>team_id</th>\n",
       "      <th>position</th>\n",
       "      <th>player_id</th>\n",
       "      <th>question_id</th>\n",
       "      <th>answer</th>\n",
       "    </tr>\n",
       "  </thead>\n",
       "  <tbody>\n",
       "    <tr>\n",
       "      <th>0</th>\n",
       "      <td>5414</td>\n",
       "      <td>66120</td>\n",
       "      <td>1.0</td>\n",
       "      <td>18490</td>\n",
       "      <td>5414_0</td>\n",
       "      <td>1</td>\n",
       "    </tr>\n",
       "    <tr>\n",
       "      <th>1</th>\n",
       "      <td>5414</td>\n",
       "      <td>66120</td>\n",
       "      <td>1.0</td>\n",
       "      <td>18490</td>\n",
       "      <td>5414_1</td>\n",
       "      <td>1</td>\n",
       "    </tr>\n",
       "    <tr>\n",
       "      <th>2</th>\n",
       "      <td>5414</td>\n",
       "      <td>66120</td>\n",
       "      <td>1.0</td>\n",
       "      <td>18490</td>\n",
       "      <td>5414_2</td>\n",
       "      <td>1</td>\n",
       "    </tr>\n",
       "    <tr>\n",
       "      <th>3</th>\n",
       "      <td>5414</td>\n",
       "      <td>66120</td>\n",
       "      <td>1.0</td>\n",
       "      <td>18490</td>\n",
       "      <td>5414_3</td>\n",
       "      <td>1</td>\n",
       "    </tr>\n",
       "    <tr>\n",
       "      <th>4</th>\n",
       "      <td>5414</td>\n",
       "      <td>66120</td>\n",
       "      <td>1.0</td>\n",
       "      <td>18490</td>\n",
       "      <td>5414_4</td>\n",
       "      <td>1</td>\n",
       "    </tr>\n",
       "    <tr>\n",
       "      <th>5</th>\n",
       "      <td>5414</td>\n",
       "      <td>66120</td>\n",
       "      <td>1.0</td>\n",
       "      <td>18490</td>\n",
       "      <td>5414_5</td>\n",
       "      <td>1</td>\n",
       "    </tr>\n",
       "    <tr>\n",
       "      <th>6</th>\n",
       "      <td>5414</td>\n",
       "      <td>66120</td>\n",
       "      <td>1.0</td>\n",
       "      <td>18490</td>\n",
       "      <td>5414_6</td>\n",
       "      <td>1</td>\n",
       "    </tr>\n",
       "    <tr>\n",
       "      <th>7</th>\n",
       "      <td>5414</td>\n",
       "      <td>66120</td>\n",
       "      <td>1.0</td>\n",
       "      <td>18490</td>\n",
       "      <td>5414_7</td>\n",
       "      <td>1</td>\n",
       "    </tr>\n",
       "    <tr>\n",
       "      <th>8</th>\n",
       "      <td>5414</td>\n",
       "      <td>66120</td>\n",
       "      <td>1.0</td>\n",
       "      <td>18490</td>\n",
       "      <td>5414_8</td>\n",
       "      <td>1</td>\n",
       "    </tr>\n",
       "    <tr>\n",
       "      <th>9</th>\n",
       "      <td>5414</td>\n",
       "      <td>66120</td>\n",
       "      <td>1.0</td>\n",
       "      <td>18490</td>\n",
       "      <td>5414_9</td>\n",
       "      <td>1</td>\n",
       "    </tr>\n",
       "  </tbody>\n",
       "</table>\n",
       "</div>"
      ],
      "text/plain": [
       "   tour_id  team_id  position  player_id question_id  answer\n",
       "0     5414    66120       1.0      18490      5414_0       1\n",
       "1     5414    66120       1.0      18490      5414_1       1\n",
       "2     5414    66120       1.0      18490      5414_2       1\n",
       "3     5414    66120       1.0      18490      5414_3       1\n",
       "4     5414    66120       1.0      18490      5414_4       1\n",
       "5     5414    66120       1.0      18490      5414_5       1\n",
       "6     5414    66120       1.0      18490      5414_6       1\n",
       "7     5414    66120       1.0      18490      5414_7       1\n",
       "8     5414    66120       1.0      18490      5414_8       1\n",
       "9     5414    66120       1.0      18490      5414_9       1"
      ]
     },
     "execution_count": 310,
     "metadata": {},
     "output_type": "execute_result"
    }
   ],
   "source": [
    "df_test.head(10)"
   ]
  },
  {
   "cell_type": "markdown",
   "id": "ff6de954",
   "metadata": {},
   "source": [
    "Датасеты по количеству уникальных игроков:"
   ]
  },
  {
   "cell_type": "code",
   "execution_count": 311,
   "id": "10a3e69a",
   "metadata": {},
   "outputs": [
    {
     "data": {
      "text/plain": [
       "(55624, 22169)"
      ]
     },
     "execution_count": 311,
     "metadata": {},
     "output_type": "execute_result"
    }
   ],
   "source": [
    "df.player_id.nunique(), df_test.player_id.nunique()"
   ]
  },
  {
   "cell_type": "markdown",
   "id": "cedd3441",
   "metadata": {},
   "source": [
    "### 2. Построение Baseline модели\n",
    "Постройте baseline-модель на основе линейной или логистической регрессии, которая будет обучать рейтинг-лист игроков\n",
    "- повопросные результаты — это фактически результаты броска монетки, и их предсказание скорее всего имеет отношение к бинарной классификации;\n",
    "- в разных турнирах вопросы совсем разного уровня сложности, поэтому модель должна это учитывать; скорее всего, модель должна будет явно обучать не только силу каждого игрока, но и сложность каждого вопроса;\n",
    "- для baseline-модели можно забыть о командах и считать, что повопросные результаты команды просто относятся к каждому из её игроков.\n"
   ]
  },
  {
   "cell_type": "markdown",
   "id": "8acc8419",
   "metadata": {},
   "source": [
    "Будем использовать статистику по игроку и каждому вопросу в туре в качестве признаков, таргет переменной будет значение (0, 1) - ответил ли данный человек (в составе какой-либо команды) на вопрос или нет. Закодируем все признаки игроков и вопросов one-hot кодированием"
   ]
  },
  {
   "cell_type": "code",
   "execution_count": 126,
   "id": "9183f861",
   "metadata": {},
   "outputs": [],
   "source": [
    "from sklearn.preprocessing import OneHotEncoder\n",
    "\n",
    "encoder = OneHotEncoder(handle_unknown='ignore')\n",
    "X_train = encoder.fit_transform(df[['player_id', 'question_id']])\n",
    "X_test = encoder.transform(df_test[['player_id', 'question_id']])\n",
    "y_train = df['answer']\n",
    "y_test = df_test['answer']"
   ]
  },
  {
   "cell_type": "code",
   "execution_count": 128,
   "id": "0bf99e92",
   "metadata": {
    "scrolled": true
   },
   "outputs": [
    {
     "data": {
      "text/plain": [
       "((14678548, 85781), (3427173, 85781))"
      ]
     },
     "execution_count": 128,
     "metadata": {},
     "output_type": "execute_result"
    }
   ],
   "source": [
    "X_train.shape, X_test.shape"
   ]
  },
  {
   "cell_type": "code",
   "execution_count": 130,
   "id": "a1d52227",
   "metadata": {},
   "outputs": [
    {
     "data": {
      "text/plain": [
       "LogisticRegression(solver='saga')"
      ]
     },
     "execution_count": 130,
     "metadata": {},
     "output_type": "execute_result"
    }
   ],
   "source": [
    "from sklearn.linear_model import LogisticRegression\n",
    "\n",
    "lr = LogisticRegression(solver='saga')\n",
    "lr.fit(X_train, y_train)"
   ]
  },
  {
   "cell_type": "code",
   "execution_count": 131,
   "id": "166d4a53",
   "metadata": {},
   "outputs": [],
   "source": [
    "# saving the model\n",
    "pickle.dump(lr, open('lr_model.pkl', 'wb'))"
   ]
  },
  {
   "cell_type": "code",
   "execution_count": 172,
   "id": "159485a2",
   "metadata": {},
   "outputs": [
    {
     "data": {
      "text/html": [
       "<div>\n",
       "<style scoped>\n",
       "    .dataframe tbody tr th:only-of-type {\n",
       "        vertical-align: middle;\n",
       "    }\n",
       "\n",
       "    .dataframe tbody tr th {\n",
       "        vertical-align: top;\n",
       "    }\n",
       "\n",
       "    .dataframe thead th {\n",
       "        text-align: right;\n",
       "    }\n",
       "</style>\n",
       "<table border=\"1\" class=\"dataframe\">\n",
       "  <thead>\n",
       "    <tr style=\"text-align: right;\">\n",
       "      <th></th>\n",
       "      <th>player_id</th>\n",
       "      <th>name</th>\n",
       "      <th>weight</th>\n",
       "      <th>rating</th>\n",
       "    </tr>\n",
       "  </thead>\n",
       "  <tbody>\n",
       "    <tr>\n",
       "      <th>0</th>\n",
       "      <td>27403</td>\n",
       "      <td>Максим Руссо Михайлович</td>\n",
       "      <td>4.071555</td>\n",
       "      <td>1.0</td>\n",
       "    </tr>\n",
       "    <tr>\n",
       "      <th>1</th>\n",
       "      <td>4270</td>\n",
       "      <td>Александра Брутер Владимировна</td>\n",
       "      <td>3.935011</td>\n",
       "      <td>2.0</td>\n",
       "    </tr>\n",
       "    <tr>\n",
       "      <th>2</th>\n",
       "      <td>28751</td>\n",
       "      <td>Иван Семушин Николаевич</td>\n",
       "      <td>3.887821</td>\n",
       "      <td>3.0</td>\n",
       "    </tr>\n",
       "    <tr>\n",
       "      <th>3</th>\n",
       "      <td>27822</td>\n",
       "      <td>Михаил Савченков Владимирович</td>\n",
       "      <td>3.855391</td>\n",
       "      <td>4.0</td>\n",
       "    </tr>\n",
       "    <tr>\n",
       "      <th>4</th>\n",
       "      <td>30270</td>\n",
       "      <td>Сергей Спешков Леонидович</td>\n",
       "      <td>3.761352</td>\n",
       "      <td>5.0</td>\n",
       "    </tr>\n",
       "    <tr>\n",
       "      <th>5</th>\n",
       "      <td>30152</td>\n",
       "      <td>Артём Сорожкин Сергеевич</td>\n",
       "      <td>3.755803</td>\n",
       "      <td>6.0</td>\n",
       "    </tr>\n",
       "    <tr>\n",
       "      <th>6</th>\n",
       "      <td>18036</td>\n",
       "      <td>Михаил Левандовский Ильич</td>\n",
       "      <td>3.620864</td>\n",
       "      <td>7.0</td>\n",
       "    </tr>\n",
       "    <tr>\n",
       "      <th>7</th>\n",
       "      <td>20691</td>\n",
       "      <td>Станислав Мереминский Григорьевич</td>\n",
       "      <td>3.616413</td>\n",
       "      <td>8.0</td>\n",
       "    </tr>\n",
       "    <tr>\n",
       "      <th>8</th>\n",
       "      <td>87637</td>\n",
       "      <td>Антон Саксонов Владимирович</td>\n",
       "      <td>3.546105</td>\n",
       "      <td>9.0</td>\n",
       "    </tr>\n",
       "    <tr>\n",
       "      <th>9</th>\n",
       "      <td>22799</td>\n",
       "      <td>Сергей Николенко Игоревич</td>\n",
       "      <td>3.541687</td>\n",
       "      <td>10.0</td>\n",
       "    </tr>\n",
       "    <tr>\n",
       "      <th>10</th>\n",
       "      <td>26089</td>\n",
       "      <td>Ирина Прокофьева Сергеевна</td>\n",
       "      <td>3.535597</td>\n",
       "      <td>11.0</td>\n",
       "    </tr>\n",
       "    <tr>\n",
       "      <th>11</th>\n",
       "      <td>22935</td>\n",
       "      <td>Илья Новиков Сергеевич</td>\n",
       "      <td>3.521025</td>\n",
       "      <td>12.0</td>\n",
       "    </tr>\n",
       "    <tr>\n",
       "      <th>12</th>\n",
       "      <td>21698</td>\n",
       "      <td>Александр Мосягин Владимирович</td>\n",
       "      <td>3.510396</td>\n",
       "      <td>13.0</td>\n",
       "    </tr>\n",
       "    <tr>\n",
       "      <th>13</th>\n",
       "      <td>18332</td>\n",
       "      <td>Александр Либер Витальевич</td>\n",
       "      <td>3.499404</td>\n",
       "      <td>14.0</td>\n",
       "    </tr>\n",
       "    <tr>\n",
       "      <th>14</th>\n",
       "      <td>74001</td>\n",
       "      <td>Игорь Мокин Викторович</td>\n",
       "      <td>3.493735</td>\n",
       "      <td>15.0</td>\n",
       "    </tr>\n",
       "    <tr>\n",
       "      <th>15</th>\n",
       "      <td>56647</td>\n",
       "      <td>Наталья Горелова Евгеньевна</td>\n",
       "      <td>3.483028</td>\n",
       "      <td>16.0</td>\n",
       "    </tr>\n",
       "    <tr>\n",
       "      <th>16</th>\n",
       "      <td>37047</td>\n",
       "      <td>Мария Юнгер Алексеевна</td>\n",
       "      <td>3.460743</td>\n",
       "      <td>17.0</td>\n",
       "    </tr>\n",
       "    <tr>\n",
       "      <th>17</th>\n",
       "      <td>13689</td>\n",
       "      <td>Дмитрий Карякин Александрович</td>\n",
       "      <td>3.454873</td>\n",
       "      <td>18.0</td>\n",
       "    </tr>\n",
       "    <tr>\n",
       "      <th>18</th>\n",
       "      <td>7008</td>\n",
       "      <td>Алексей Гилёв Владимирович</td>\n",
       "      <td>3.445913</td>\n",
       "      <td>19.0</td>\n",
       "    </tr>\n",
       "    <tr>\n",
       "      <th>19</th>\n",
       "      <td>16837</td>\n",
       "      <td>Наталья Кудряшова Алексеевна</td>\n",
       "      <td>3.440875</td>\n",
       "      <td>20.0</td>\n",
       "    </tr>\n",
       "  </tbody>\n",
       "</table>\n",
       "</div>"
      ],
      "text/plain": [
       "    player_id                               name    weight  rating\n",
       "0       27403            Максим Руссо Михайлович  4.071555     1.0\n",
       "1        4270     Александра Брутер Владимировна  3.935011     2.0\n",
       "2       28751            Иван Семушин Николаевич  3.887821     3.0\n",
       "3       27822      Михаил Савченков Владимирович  3.855391     4.0\n",
       "4       30270          Сергей Спешков Леонидович  3.761352     5.0\n",
       "5       30152           Артём Сорожкин Сергеевич  3.755803     6.0\n",
       "6       18036          Михаил Левандовский Ильич  3.620864     7.0\n",
       "7       20691  Станислав Мереминский Григорьевич  3.616413     8.0\n",
       "8       87637        Антон Саксонов Владимирович  3.546105     9.0\n",
       "9       22799          Сергей Николенко Игоревич  3.541687    10.0\n",
       "10      26089         Ирина Прокофьева Сергеевна  3.535597    11.0\n",
       "11      22935             Илья Новиков Сергеевич  3.521025    12.0\n",
       "12      21698     Александр Мосягин Владимирович  3.510396    13.0\n",
       "13      18332         Александр Либер Витальевич  3.499404    14.0\n",
       "14      74001             Игорь Мокин Викторович  3.493735    15.0\n",
       "15      56647        Наталья Горелова Евгеньевна  3.483028    16.0\n",
       "16      37047             Мария Юнгер Алексеевна  3.460743    17.0\n",
       "17      13689      Дмитрий Карякин Александрович  3.454873    18.0\n",
       "18       7008         Алексей Гилёв Владимирович  3.445913    19.0\n",
       "19      16837       Наталья Кудряшова Алексеевна  3.440875    20.0"
      ]
     },
     "execution_count": 172,
     "metadata": {},
     "output_type": "execute_result"
    }
   ],
   "source": [
    "players_weights = {id: w for (id, w) in zip(encoder.categories_[0], lr.coef_[0][:len(train_players.keys())])}\n",
    "questions_weights = {id: w for (id, w) in zip(encoder.categories_[1], lr.coef_[0][len(train_players.keys()):])}\n",
    "ranking_df = pd.DataFrame(train_players.keys(), columns=['player_id'])\n",
    "names = [players[player_id]['name'] + ' ' + players[player_id]['surname'] + ' ' + players[player_id]['patronymic'] for player_id in train_players.keys()]\n",
    "ranking_df['name'] = names\n",
    "ranking_df['weight'] = ranking_df['player_id'].map(players_weights)\n",
    "ranking_df['rating'] = ranking_df['weight'].rank(ascending=False)\n",
    "ranking_df.sort_values(by='rating', inplace=True, ignore_index=True)\n",
    "ranking_df.head(20)"
   ]
  },
  {
   "cell_type": "markdown",
   "id": "3561a469",
   "metadata": {},
   "source": [
    "### 3. Предсказания результатов нового турнира с известными составами, но неизвестными вопросами\n",
    "- предложите способ предсказать результаты нового турнира с известными составами, но неизвестными вопросами, в виде ранжирования команд;\n",
    "- в качестве метрики качества на тестовом наборе давайте считать ранговые корреляции Спирмена и Кендалла (их можно взять в пакете scipy) между реальным ранжированием в результатах турнира и предсказанным моделью, усреднённые по тестовому множеству турниров."
   ]
  },
  {
   "cell_type": "markdown",
   "id": "d135c25b",
   "metadata": {},
   "source": [
    "Для успеха команды достаточно, чтобы один из игроков назвал правильный ответ. Поэтому вероятность команды правильно ответить на вопрос = вероятности, что хотя бы один из игроков правильно ответит на вопрос, воспользуемся данной вероятностью при ранжировании команд"
   ]
  },
  {
   "cell_type": "code",
   "execution_count": 356,
   "id": "10373443",
   "metadata": {},
   "outputs": [],
   "source": [
    "X_test = encoder.transform(df_test[['player_id', 'question_id']])\n",
    "y_pred = lr.predict_proba(X_test)[:, 1]\n",
    "df_score = df_test[['tour_id', 'team_id']].copy()\n",
    "df_score['1-p'] = 1 - y_pred\n",
    "df_score = df_score.groupby(['tour_id',  'team_id']).prod().reset_index()\n",
    "df_score['rating'] = df_score.groupby('tour_id')['1-p'].rank('dense')\n",
    "\n",
    "team_rating = pd.merge(df_score[['tour_id', 'team_id', 'rating']].drop_duplicates(), df_test[['tour_id', 'team_id', 'position']].drop_duplicates(), on=['tour_id', 'team_id'])"
   ]
  },
  {
   "cell_type": "code",
   "execution_count": 359,
   "id": "63b54ce6",
   "metadata": {},
   "outputs": [],
   "source": [
    "# посчитаем ранговые корреляции между ранжированием в результатах турнира и предсказанных моделью\n",
    "from scipy import stats\n",
    "\n",
    "spearman_corr = []\n",
    "kendall_corr = []\n",
    "for tour in list(team_rating['tour_id'].values):\n",
    "    df = team_rating[team_rating['tour_id'] == tour]\n",
    "    s_corr = stats.spearmanr(df['rating'], df['position']).correlation\n",
    "    k_corr = stats.kendalltau(df['rating'], df['position']).correlation\n",
    "    spearman_corr.append(s_corr)\n",
    "    kendall_corr.append(k_corr)"
   ]
  },
  {
   "cell_type": "code",
   "execution_count": 358,
   "id": "cf31c88f",
   "metadata": {},
   "outputs": [
    {
     "name": "stdout",
     "output_type": "stream",
     "text": [
      "Корреляция Спирмена: 0.829\n",
      "Корреляция Кендалла: 0.658\n"
     ]
    }
   ],
   "source": [
    "sp_corr = np.mean(spearman_corr)\n",
    "kd_corr = np.mean(kendall_corr)\n",
    "print('Корреляция Спирмена:', round(sp_corr, 3))\n",
    "print('Корреляция Кендалла:', round(kd_corr, 3))"
   ]
  }
 ],
 "metadata": {
  "kernelspec": {
   "display_name": "Python 3 (ipykernel)",
   "language": "python",
   "name": "python3"
  },
  "language_info": {
   "codemirror_mode": {
    "name": "ipython",
    "version": 3
   },
   "file_extension": ".py",
   "mimetype": "text/x-python",
   "name": "python",
   "nbconvert_exporter": "python",
   "pygments_lexer": "ipython3",
   "version": "3.9.13"
  }
 },
 "nbformat": 4,
 "nbformat_minor": 5
}
